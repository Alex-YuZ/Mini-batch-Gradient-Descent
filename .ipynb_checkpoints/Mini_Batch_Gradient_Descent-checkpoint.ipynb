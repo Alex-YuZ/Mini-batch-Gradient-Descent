{
 "cells": [
  {
   "cell_type": "code",
   "execution_count": 1,
   "metadata": {},
   "outputs": [],
   "source": [
    "import os\n",
    "os.chdir('projects_on_GitHub/Machine_learning/Mini_Batch_Gradient_Descent')"
   ]
  },
  {
   "cell_type": "markdown",
   "metadata": {},
   "source": [
    "## Explore the dataset"
   ]
  },
  {
   "cell_type": "code",
   "execution_count": 14,
   "metadata": {},
   "outputs": [
    {
     "data": {
      "text/plain": [
       "array([[-7.24070e-01,  2.23863e+00],\n",
       "       [-2.40724e+00, -1.56000e-03],\n",
       "       [ 2.64837e+00,  3.01665e+00],\n",
       "       [ 3.60920e-01,  2.31019e+00],\n",
       "       [ 6.73120e-01,  2.05950e+00],\n",
       "       [-4.54600e-01,  1.24736e+00],\n",
       "       [ 2.20168e+00,  2.82497e+00],\n",
       "       [ 1.15605e+00,  2.21802e+00],\n",
       "       [ 5.06940e-01,  1.43644e+00],\n",
       "       [-8.59520e-01,  1.74980e+00]])"
      ]
     },
     "execution_count": 14,
     "metadata": {},
     "output_type": "execute_result"
    }
   ],
   "source": [
    "data = np.loadtxt('data.csv', delimiter=',')\n",
    "data[:10, :]"
   ]
  },
  {
   "cell_type": "code",
   "execution_count": 16,
   "metadata": {},
   "outputs": [
    {
     "data": {
      "text/plain": [
       "(100, 2)"
      ]
     },
     "execution_count": 16,
     "metadata": {},
     "output_type": "execute_result"
    }
   ],
   "source": [
    "data.shape"
   ]
  },
  {
   "cell_type": "code",
   "execution_count": 7,
   "metadata": {},
   "outputs": [
    {
     "data": {
      "image/png": "[encoded data removed]",
      "text/plain": [
       "<Figure size 432x288 with 1 Axes>"
      ]
     },
     "metadata": {
      "needs_background": "light"
     },
     "output_type": "display_data"
    }
   ],
   "source": [
    "X = data[:, :-1]\n",
    "y = data[:, -1]\n",
    "_ = plt.scatter(X, y)"
   ]
  },
  {
   "cell_type": "code",
   "execution_count": 15,
   "metadata": {},
   "outputs": [
    {
     "data": {
      "text/plain": [
       "array([8, 0, 2, 9, 1, 8, 6, 3, 8, 2, 4, 7, 4, 8, 6, 5, 3, 8, 4, 3])"
      ]
     },
     "execution_count": 15,
     "metadata": {},
     "output_type": "execute_result"
    }
   ],
   "source": [
    "n_point = X.shape[0]\n",
    "np.random.choice(range(10),20)"
   ]
  },
  {
   "cell_type": "markdown",
   "metadata": {},
   "source": [
    "## Mean Sqaured Error Step"
   ]
  },
  {
   "cell_type": "code",
   "execution_count": null,
   "metadata": {},
   "outputs": [],
   "source": [
    "def MSEStep(X, y, W, b, learning_rate = .001):\n",
    "    \"\"\"\n",
    "    This function implements the gradient descent step for squared error as a\n",
    "    performance metric.\n",
    "    \n",
    "    Parameters\n",
    "    ----------\n",
    "    X : array of predictor features\n",
    "    y : array of outcome values\n",
    "    W : predictor feature coefficients\n",
    "    b : regression function intercept\n",
    "    learn_rate : learning rate\n",
    "\n",
    "    Returns\n",
    "    -------\n",
    "    W_new : predictor feature coefficients following gradient descent step\n",
    "    b_new : intercept following gradient descent step\n",
    "    \"\"\"\n",
    "    # compute the errors\n",
    "    y_pred = np.matmul(X, W) + b\n",
    "    error = y - y_pred\n",
    "    \n",
    "    # compute steps\n",
    "    W_new = W + learning_rate * np.matmul(error, X)\n",
    "    b_new = b + learning_rate * error.sum()\n",
    "    \n",
    "    return W_new, b_new\n",
    "    "
   ]
  }
 ],
 "metadata": {
  "kernelspec": {
   "display_name": "Python 3",
   "language": "python",
   "name": "python3"
  },
  "language_info": {
   "codemirror_mode": {
    "name": "ipython",
    "version": 3
   },
   "file_extension": ".py",
   "mimetype": "text/x-python",
   "name": "python",
   "nbconvert_exporter": "python",
   "pygments_lexer": "ipython3",
   "version": "3.7.9"
  }
 },
 "nbformat": 4,
 "nbformat_minor": 4
}
